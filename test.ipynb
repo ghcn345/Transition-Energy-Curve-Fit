{
 "cells": [
  {
   "cell_type": "code",
   "execution_count": 18,
   "metadata": {
    "collapsed": true
   },
   "outputs": [],
   "source": [
    "import numpy as np\n",
    "from numpy import inf\n",
    "from scipy.optimize import curve_fit\n",
    "import matplotlib.pyplot as plt"
   ]
  },
  {
   "cell_type": "code",
   "execution_count": 76,
   "metadata": {
    "collapsed": true
   },
   "outputs": [],
   "source": [
    "def diag(n,a,b,c):\n",
    "    k=np.zeros((n,n))\n",
    "    np.fill_diagonal(k,a)\n",
    "    np.fill_diagonal(k[1:,:-1],b)\n",
    "    np.fill_diagonal(k[:-1,1:],b)\n",
    "    np.fill_diagonal(k[2:,:-2],c)\n",
    "    np.fill_diagonal(k[:-2,2:],c)\n",
    "    \n",
    "    w,v=np.linalg.eig(k)\n",
    "    return w"
   ]
  },
  {
   "cell_type": "code",
   "execution_count": 84,
   "metadata": {},
   "outputs": [
    {
     "data": {
      "text/plain": [
       "array([ 7.65427349,  4.56155281,  1.74770274,  0.43844719,  0.59802377])"
      ]
     },
     "execution_count": 84,
     "metadata": {},
     "output_type": "execute_result"
    }
   ],
   "source": [
    "n=5\n",
    "diag(n,3,2,1)"
   ]
  },
  {
   "cell_type": "code",
   "execution_count": 85,
   "metadata": {
    "collapsed": true
   },
   "outputs": [],
   "source": [
    "def fun(x,n,a,b,c):\n",
    "    return a+2*b*np.cos(np.pi*x/(n+1))+2*c*np.cos(2*np.pi*x/(n+1))"
   ]
  },
  {
   "cell_type": "code",
   "execution_count": 86,
   "metadata": {},
   "outputs": [
    {
     "data": {
      "text/plain": [
       "array([ 7.46410162,  4.        ,  1.        ,  0.        ,  0.53589838])"
      ]
     },
     "execution_count": 86,
     "metadata": {},
     "output_type": "execute_result"
    }
   ],
   "source": [
    "x=np.arange(n)+1\n",
    "fun(x,n,3,2,1)"
   ]
  },
  {
   "cell_type": "code",
   "execution_count": 19,
   "metadata": {
    "collapsed": true
   },
   "outputs": [],
   "source": [
    "np.set_printoptions(precision=2)"
   ]
  },
  {
   "cell_type": "code",
   "execution_count": 21,
   "metadata": {
    "collapsed": true
   },
   "outputs": [],
   "source": [
    "def fun1(x,a,b):\n",
    "    return a+b*(1-np.cos(np.pi/(x+1)))\n",
    "\n",
    "def fun2(x,a,b,c):\n",
    "    return a*(1-1/x)+b*(x+1)/(x+c)**2"
   ]
  },
  {
   "cell_type": "code",
   "execution_count": 12,
   "metadata": {},
   "outputs": [],
   "source": [
    "a=fun1(10,2.69,2.94)\n",
    "b=fun1(10,1.73,3.22)\n",
    "c=fun1(10,1.77,2.47)\n",
    "d=fun1(10,1.92,2.85)"
   ]
  },
  {
   "cell_type": "code",
   "execution_count": 22,
   "metadata": {
    "collapsed": true
   },
   "outputs": [],
   "source": [
    "a=fun2(10,2.11,7.57,0.72)\n",
    "b=fun2(10,1.45,4.74,0.33)\n",
    "c=fun2(10,1.49,4.51,0.45)\n",
    "d=fun2(10,1.61,5.67,0.55)"
   ]
  },
  {
   "cell_type": "code",
   "execution_count": 23,
   "metadata": {},
   "outputs": [
    {
     "data": {
      "text/plain": [
       "(2.623601108264647, 1.7936190373998795, 1.7952936288088643, 2.00936477168078)"
      ]
     },
     "execution_count": 23,
     "metadata": {},
     "output_type": "execute_result"
    }
   ],
   "source": [
    "a,b,c,d"
   ]
  },
  {
   "cell_type": "code",
   "execution_count": null,
   "metadata": {
    "collapsed": true
   },
   "outputs": [],
   "source": []
  }
 ],
 "metadata": {
  "kernelspec": {
   "display_name": "Python 3",
   "language": "python",
   "name": "python3"
  },
  "language_info": {
   "codemirror_mode": {
    "name": "ipython",
    "version": 3
   },
   "file_extension": ".py",
   "mimetype": "text/x-python",
   "name": "python",
   "nbconvert_exporter": "python",
   "pygments_lexer": "ipython3",
   "version": "3.6.3"
  }
 },
 "nbformat": 4,
 "nbformat_minor": 2
}
