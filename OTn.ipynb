{
 "cells": [
  {
   "cell_type": "code",
   "execution_count": null,
   "metadata": {
    "collapsed": true
   },
   "outputs": [],
   "source": [
    "# fun3\n",
    "poptVac03,pcovVac03=curve_fit(fun3,x,yVac0)\n",
    "poptVac13,pcovVac13=curve_fit(fun3,x,yVac1)\n",
    "poptVac23,pcovVac23=curve_fit(fun3,x,yVac2)\n",
    "poptVac33,pcovVac33=curve_fit(fun3,x,yVac3)\n",
    "#\n",
    "poptSol03,pcovSol03=curve_fit(fun3,x,ySol0)\n",
    "poptSol13,pcovSol13=curve_fit(fun3,x,ySol1)\n",
    "poptSol23,pcovSol23=curve_fit(fun3,x,ySol2)\n",
    "poptSol33,pcovSol33=curve_fit(fun3,x,ySol3)\n",
    "\n",
    "poptSolExp3,pcovSolExp3=curve_fit(fun3,x,ySolExp)\n",
    "\n",
    "#\n",
    "poptcaVac03,pcovcaVac03=curve_fit(fun3,x,ycaVac0,p0=[2,4,0])\n",
    "poptcaVac13,pcovcaVac13=curve_fit(fun3,x,ycaVac1,p0=[2,4,0])\n",
    "poptcaVac23,pcovcaVac23=curve_fit(fun3,x,ycaVac2,p0=[2,4,0])\n",
    "poptcaVac33,pcovcaVac33=curve_fit(fun3,x,ycaVac3,p0=[2,4,0])\n",
    "\n",
    "poptcaSol03,pcovcaSol03=curve_fit(fun3,x,ycaSol0,p0=[2,4,0])\n",
    "poptcaSol13,pcovcaSol13=curve_fit(fun3,x,ycaSol1,p0=[2,4,0])\n",
    "poptcaSol23,pcovcaSol23=curve_fit(fun3,x,ycaSol2,p0=[2,4,0])\n",
    "poptcaSol33,pcovcaSol33=curve_fit(fun3,x,ycaSol3,p0=[2,4,0])\n",
    "\n",
    "poptcaSolExp3,pcovcaSolExp3=curve_fit(fun3,x,ycaSolExp,p0=[2,4,0])\n",
    "\n",
    "#\n",
    "poptanVac03,pcovanVac03=curve_fit(fun3,x,yanVac0,p0=[2,4,0])\n",
    "poptanVac13,pcovanVac13=curve_fit(fun3,x,yanVac1,p0=[2,4,0])\n",
    "poptanVac23,pcovanVac23=curve_fit(fun3,x,yanVac2,p0=[2,4,0])\n",
    "poptanVac33,pcovanVac33=curve_fit(fun3,x,yanVac3,p0=[2,4,0])\n",
    "\n",
    "poptanSol03,pcovanSol03=curve_fit(fun3,x,yanSol0,p0=[2,4,0])\n",
    "poptanSol13,pcovanSol13=curve_fit(fun3,x,yanSol1,p0=[2,4,0])\n",
    "poptanSol23,pcovanSol23=curve_fit(fun3,x,yanSol2,p0=[2,4,0])\n",
    "poptanSol33,pcovanSol33=curve_fit(fun3,x,yanSol3,p0=[2,4,0])\n",
    "\n",
    "poptanSolExp3,pcovanSolExp3=curve_fit(fun3,xs,yanSolExp)\n",
    "\n",
    "#\n",
    "poptemVac13,pcovemVac13=curve_fit(fun3,x,yemVac1,p0=[2,4,0])\n",
    "poptemVac23,pcovemVac23=curve_fit(fun3,x,yemVac2,p0=[2,4,0])\n",
    "poptemVac33,pcovemVac33=curve_fit(fun3,x,yemVac3,p0=[2,4,0])\n",
    "\n",
    "poptemSol13,pcovemSol13=curve_fit(fun3,x,yemSol1,p0=[2,4,0])\n",
    "poptemSol23,pcovemSol23=curve_fit(fun3,x,yemSol2,p0=[2,4,0])\n",
    "poptemSol33,pcovemSol33=curve_fit(fun3,x,yemSol3,p0=[2,4,0])\n",
    "\n",
    "poptemSolExp3,pcovemSolExp3=curve_fit(fun3,x,yemSolExp,p0=[2,4,0])"
   ]
  },
  {
   "cell_type": "code",
   "execution_count": null,
   "metadata": {
    "collapsed": true
   },
   "outputs": [],
   "source": [
    "# fun3,2nd\n",
    "poptVac03,pcovVac03=curve_fit(fun3,x,yVac0,p0=[2,4,0],bounds=([-inf,0,0],inf))\n",
    "poptVac13,pcovVac13=curve_fit(fun3,x,yVac1,p0=[2,4,0],bounds=([-inf,0,0],inf))\n",
    "poptVac23,pcovVac23=curve_fit(fun3,x,yVac2,p0=[2,4,0],bounds=([-inf,0,0],inf))\n",
    "poptVac33,pcovVac33=curve_fit(fun3,x,yVac3,p0=[2,4,0],bounds=([-inf,0,0],inf))\n",
    "#\n",
    "poptSol03,pcovSol03=curve_fit(fun3,x,ySol0,p0=[2,4,0],bounds=([-inf,0,0],inf))\n",
    "poptSol13,pcovSol13=curve_fit(fun3,x,ySol1,p0=[2,4,0],bounds=([-inf,0,0],inf))\n",
    "poptSol23,pcovSol23=curve_fit(fun3,x,ySol2,p0=[2,4,0],bounds=([-inf,0,0],inf))\n",
    "poptSol33,pcovSol33=curve_fit(fun3,x,ySol3,p0=[2,4,0],bounds=([-inf,0,0],inf))\n",
    "\n",
    "poptSolExp3,pcovSolExp3=curve_fit(fun3,x,ySolExp,p0=[2,4,0],bounds=([-inf,0,0],inf))\n",
    "\n",
    "#\n",
    "poptcaVac03,pcovcaVac03=curve_fit(fun3,x,ycaVac0,p0=[2,4,0],bounds=([-inf,0,0],inf))\n",
    "poptcaVac13,pcovcaVac13=curve_fit(fun3,x,ycaVac1,p0=[2,4,0],bounds=([-inf,0,0],inf))\n",
    "poptcaVac23,pcovcaVac23=curve_fit(fun3,x,ycaVac2,p0=[2,4,0],bounds=([-inf,0,0],inf))\n",
    "poptcaVac33,pcovcaVac33=curve_fit(fun3,x,ycaVac3,p0=[2,4,0],bounds=([-inf,0,0],inf))\n",
    "\n",
    "poptcaSol03,pcovcaSol03=curve_fit(fun3,x,ycaSol0,p0=[2,4,0],bounds=([-inf,0,0],inf))\n",
    "poptcaSol13,pcovcaSol13=curve_fit(fun3,x,ycaSol1,p0=[2,4,0],bounds=([-inf,0,0],inf))\n",
    "poptcaSol23,pcovcaSol23=curve_fit(fun3,x,ycaSol2,p0=[2,4,0],bounds=([-inf,0,0],inf))\n",
    "poptcaSol33,pcovcaSol33=curve_fit(fun3,x,ycaSol3,p0=[2,4,0],bounds=([-inf,0,0],inf))\n",
    "\n",
    "poptcaSolExp3,pcovcaSolExp3=curve_fit(fun3,x,ycaSolExp,p0=[2,4,0],bounds=([-inf,0,0],inf))\n",
    "\n",
    "#\n",
    "poptanVac03,pcovanVac03=curve_fit(fun3,x,yanVac0,p0=[2,4,0],bounds=([-inf,0,0],inf))\n",
    "poptanVac13,pcovanVac13=curve_fit(fun3,x,yanVac1,p0=[2,4,0],bounds=([-inf,0,0],inf))\n",
    "poptanVac23,pcovanVac23=curve_fit(fun3,x,yanVac2,p0=[2,4,0],bounds=([-inf,0,0],inf))\n",
    "poptanVac33,pcovanVac33=curve_fit(fun3,x,yanVac3,p0=[2,4,0],bounds=([-inf,0,0],inf))\n",
    "\n",
    "poptanSol03,pcovanSol03=curve_fit(fun3,x,yanSol0,p0=[2,4,0],bounds=([-inf,0,0],inf))\n",
    "poptanSol13,pcovanSol13=curve_fit(fun3,x,yanSol1,p0=[2,4,0],bounds=([-inf,0,0],inf))\n",
    "poptanSol23,pcovanSol23=curve_fit(fun3,x,yanSol2,p0=[2,4,0],bounds=([-inf,0,0],inf))\n",
    "poptanSol33,pcovanSol33=curve_fit(fun3,x,yanSol3,p0=[2,4,0],bounds=([-inf,0,0],inf))\n",
    "\n",
    "poptanSolExp3,pcovanSolExp3=curve_fit(fun3,xs,yanSolExp,p0=[2,4,0],bounds=([-inf,0,0],inf))\n",
    "\n",
    "#\n",
    "poptemVac13,pcovemVac13=curve_fit(fun3,x,yemVac1,p0=[2,4,0],bounds=([-inf,0,0],inf))\n",
    "poptemVac23,pcovemVac23=curve_fit(fun3,x,yemVac2,p0=[2,4,0],bounds=([-inf,0,0],inf))\n",
    "poptemVac33,pcovemVac33=curve_fit(fun3,x,yemVac3,p0=[2,4,0],bounds=([-inf,0,0],inf))\n",
    "\n",
    "poptemSol13,pcovemSol13=curve_fit(fun3,x,yemSol1,p0=[2,4,0],bounds=([-inf,0,0],inf))\n",
    "poptemSol23,pcovemSol23=curve_fit(fun3,x,yemSol2,p0=[2,4,0],bounds=([-inf,0,0],inf))\n",
    "poptemSol33,pcovemSol33=curve_fit(fun3,x,yemSol3,p0=[2,4,0],bounds=([-inf,0,0],inf))\n",
    "\n",
    "poptemSolExp3,pcovemSolExp3=curve_fit(fun3,x,yemSolExp,p0=[2,4,0],bounds=([-inf,0,0],inf))"
   ]
  },
  {
   "cell_type": "code",
   "execution_count": null,
   "metadata": {
    "collapsed": true
   },
   "outputs": [],
   "source": [
    "perrVac03=np.sqrt(np.diag(pcovVac03))\n",
    "perrVac13=np.sqrt(np.diag(pcovVac13))\n",
    "perrVac23=np.sqrt(np.diag(pcovVac23))\n",
    "perrVac33=np.sqrt(np.diag(pcovVac33))\n",
    "\n",
    "perrSol03=np.sqrt(np.diag(pcovSol03))\n",
    "perrSol13=np.sqrt(np.diag(pcovSol13))\n",
    "perrSol23=np.sqrt(np.diag(pcovSol23))\n",
    "perrSol33=np.sqrt(np.diag(pcovSol33))\n",
    "\n",
    "perrSolExp3=np.sqrt(np.diag(pcovSolExp3))\n",
    "\n",
    "#\n",
    "perrcaVac03=np.sqrt(np.diag(pcovcaVac03))\n",
    "perrcaVac13=np.sqrt(np.diag(pcovcaVac13))\n",
    "perrcaVac23=np.sqrt(np.diag(pcovcaVac23))\n",
    "perrcaVac33=np.sqrt(np.diag(pcovcaVac33))\n",
    "\n",
    "perrcaSol03=np.sqrt(np.diag(pcovcaSol03))\n",
    "perrcaSol13=np.sqrt(np.diag(pcovcaSol13))\n",
    "perrcaSol23=np.sqrt(np.diag(pcovcaSol23))\n",
    "perrcaSol33=np.sqrt(np.diag(pcovcaSol33))\n",
    "\n",
    "perrcaSolExp3=np.sqrt(np.diag(pcovcaSolExp3))\n",
    "\n",
    "#\n",
    "perranVac03=np.sqrt(np.diag(pcovanVac03))\n",
    "perranVac13=np.sqrt(np.diag(pcovanVac13))\n",
    "perranVac23=np.sqrt(np.diag(pcovanVac23))\n",
    "perranVac33=np.sqrt(np.diag(pcovanVac33))\n",
    "\n",
    "perranSol03=np.sqrt(np.diag(pcovanSol03))\n",
    "perranSol13=np.sqrt(np.diag(pcovanSol13))\n",
    "perranSol23=np.sqrt(np.diag(pcovanSol23))\n",
    "perranSol33=np.sqrt(np.diag(pcovanSol33))\n",
    "\n",
    "perranSolExp3=np.sqrt(np.diag(pcovanSolExp3))\n",
    "\n",
    "#\n",
    "perremVac13=np.sqrt(np.diag(pcovemVac13))\n",
    "perremVac23=np.sqrt(np.diag(pcovemVac23))\n",
    "perremVac33=np.sqrt(np.diag(pcovemVac33))\n",
    "\n",
    "perremSol13=np.sqrt(np.diag(pcovemSol13))\n",
    "perremSol23=np.sqrt(np.diag(pcovemSol23))\n",
    "perremSol33=np.sqrt(np.diag(pcovemSol33))\n",
    "\n",
    "perremSolExp3=np.sqrt(np.diag(pcovemSolExp3))"
   ]
  },
  {
   "cell_type": "code",
   "execution_count": null,
   "metadata": {
    "collapsed": true
   },
   "outputs": [],
   "source": [
    "xx=np.arange(1,30)\n",
    "plt.figure(figsize=(8,6))\n",
    "\n",
    "plt.plot(1/xx,fun3(xx,*poptVac03),'--m')\n",
    "plt.plot(1/xx,fun3(xx,*poptVac13),'--b')\n",
    "plt.plot(1/xx,fun3(xx,*poptVac23),'--g')\n",
    "plt.plot(1/xx,fun3(xx,*poptVac33),'--r')\n",
    "\n",
    "plt.plot(1/xx,fun3(xx,*poptSol03),'m')\n",
    "plt.plot(1/xx,fun3(xx,*poptSol13),'b')\n",
    "plt.plot(1/xx,fun3(xx,*poptSol23),'g')\n",
    "plt.plot(1/xx,fun3(xx,*poptSol33),'r')\n",
    "\n",
    "plt.plot(1/xx,fun3(xx,*poptSolExp3),'k')\n",
    "plt.legend(['Vac ZINDO','Vac B3LYP','Vac BVP86','Vac M06-2X','Soln ZINDO','Soln B3LYP','Soln BVP86','Soln M06-2X','Soln Exp'])\n",
    "\n",
    "x=np.arange(2,7)\n",
    "xs=np.array([2,3,4,6])\n",
    "\n",
    "plt.plot(1/x,yVac0,'ms')\n",
    "plt.plot(1/x,yVac1,'bs')\n",
    "plt.plot(1/x,yVac2,'gs')\n",
    "plt.plot(1/x,yVac3,'rs')\n",
    "plt.plot(1/x,ySol0,'mo')\n",
    "plt.plot(1/x,ySol1,'bo')\n",
    "plt.plot(1/x,ySol2,'go')\n",
    "plt.plot(1/x,ySol3,'ro')\n",
    "plt.plot(1/x,ySolExp,'ko')\n",
    "#plt.savefig('abs3.pdf',format='pdf')\n",
    "plt.show()"
   ]
  },
  {
   "cell_type": "code",
   "execution_count": null,
   "metadata": {
    "collapsed": true
   },
   "outputs": [],
   "source": [
    "xx=np.arange(1,30)\n",
    "plt.figure(figsize=(8,6))\n",
    "\n",
    "plt.plot(1/xx,fun3(xx,*poptcaVac03),'--m')\n",
    "plt.plot(1/xx,fun3(xx,*poptcaVac13),'--b')\n",
    "plt.plot(1/xx,fun3(xx,*poptcaVac23),'--g')\n",
    "plt.plot(1/xx,fun3(xx,*poptcaVac33),'--r')\n",
    "\n",
    "plt.plot(1/xx,fun3(xx,*poptcaSol03),'m')\n",
    "plt.plot(1/xx,fun3(xx,*poptcaSol13),'b')\n",
    "plt.plot(1/xx,fun3(xx,*poptcaSol23),'g')\n",
    "plt.plot(1/xx,fun3(xx,*poptcaSol33),'r')\n",
    "\n",
    "plt.plot(1/xx,fun3(xx,*poptcaSolExp3),'k')\n",
    "plt.legend(['Vac ZINDO','Vac B3LYP','Vac BVP86','Vac M06-2X','Soln ZINDO','Soln B3LYP','Soln BVP86','Soln M06-2X','Soln Exp'])\n",
    "\n",
    "plt.plot(1/x,ycaVac0,'ms')\n",
    "plt.plot(1/x,ycaVac1,'bs')\n",
    "plt.plot(1/x,ycaVac2,'gs')\n",
    "plt.plot(1/x,ycaVac3,'rs')\n",
    "plt.plot(1/x,ycaSol0,'mo')\n",
    "plt.plot(1/x,ycaSol1,'bo')\n",
    "plt.plot(1/x,ycaSol2,'go')\n",
    "plt.plot(1/x,ycaSol3,'ro')\n",
    "plt.plot(1/x,ycaSolExp,'ko')\n",
    "#plt.savefig('ca3.pdf',format='pdf')\n",
    "plt.show()"
   ]
  },
  {
   "cell_type": "code",
   "execution_count": null,
   "metadata": {
    "collapsed": true
   },
   "outputs": [],
   "source": [
    "xx=np.arange(1,30)\n",
    "plt.figure(figsize=(8,6))\n",
    "\n",
    "plt.plot(1/xx,fun3(xx,*poptanVac03),'--m')\n",
    "plt.plot(1/xx,fun3(xx,*poptanVac13),'--b')\n",
    "plt.plot(1/xx,fun3(xx,*poptanVac23),'--g')\n",
    "plt.plot(1/xx,fun3(xx,*poptanVac33),'--r')\n",
    "\n",
    "plt.plot(1/xx,fun3(xx,*poptanSol03),'m')\n",
    "plt.plot(1/xx,fun3(xx,*poptanSol13),'b')\n",
    "plt.plot(1/xx,fun3(xx,*poptanSol23),'g')\n",
    "plt.plot(1/xx,fun3(xx,*poptanSol33),'r')\n",
    "\n",
    "plt.plot(1/xx,fun3(xx,*poptanSolExp3),'k')\n",
    "plt.legend(['Vac ZINDO','Vac B3LYP','Vac BVP86','Vac M06-2X','Soln ZINDO','Soln B3LYP','Soln BVP86','Soln M06-2X','Soln Exp'])\n",
    "\n",
    "plt.plot(1/x,yanVac0,'ms')\n",
    "plt.plot(1/x,yanVac1,'bs')\n",
    "plt.plot(1/x,yanVac2,'gs')\n",
    "plt.plot(1/x,yanVac3,'rs')\n",
    "plt.plot(1/x,yanSol0,'mo')\n",
    "plt.plot(1/x,yanSol1,'bo')\n",
    "plt.plot(1/x,yanSol2,'go')\n",
    "plt.plot(1/x,yanSol3,'ro')\n",
    "plt.plot(1/xs,yanSolExp,'ko')\n",
    "#plt.savefig('an3.pdf',format='pdf')\n",
    "plt.show()"
   ]
  },
  {
   "cell_type": "code",
   "execution_count": null,
   "metadata": {
    "collapsed": true
   },
   "outputs": [],
   "source": [
    "xx=np.arange(1,30)\n",
    "plt.figure(figsize=(8,6))\n",
    "\n",
    "plt.plot(1/xx,fun3(xx,*poptemVac13),'--b')\n",
    "plt.plot(1/xx,fun3(xx,*poptemVac23),'--g')\n",
    "plt.plot(1/xx,fun3(xx,*poptemVac33),'--r')\n",
    "\n",
    "plt.plot(1/xx,fun3(xx,*poptemSol13),'b')\n",
    "plt.plot(1/xx,fun3(xx,*poptemSol23),'g')\n",
    "plt.plot(1/xx,fun3(xx,*poptemSol33),'r')\n",
    "\n",
    "plt.plot(1/xx,fun3(xx,*poptemSolExp3),'k')\n",
    "plt.legend(['Vac B3LYP','Vac BVP86','Vac M06-2X','Soln B3LYP','Soln BVP86','Soln M06-2X','Soln Exp'])\n",
    "\n",
    "plt.plot(1/x,yemVac1,'bs')\n",
    "plt.plot(1/x,yemVac2,'gs')\n",
    "plt.plot(1/x,yemVac3,'rs')\n",
    "plt.plot(1/x,yemSol1,'bo')\n",
    "plt.plot(1/x,yemSol2,'go')\n",
    "plt.plot(1/x,yemSol3,'ro')\n",
    "plt.plot(1/x,yemSolExp,'ko')\n",
    "#plt.savefig('em3.pdf',format='pdf')\n",
    "plt.show()"
   ]
  },
  {
   "cell_type": "code",
   "execution_count": null,
   "metadata": {
    "collapsed": true
   },
   "outputs": [],
   "source": [
    "poptVac03,poptSol03,poptVac13,poptSol13,poptVac23,poptSol23,poptVac33,poptSol33,poptSolExp3"
   ]
  },
  {
   "cell_type": "code",
   "execution_count": null,
   "metadata": {
    "collapsed": true
   },
   "outputs": [],
   "source": [
    "np.savetxt('1.txt',[poptVac03,poptSol03,poptVac13,poptSol13,poptVac23,poptSol23,poptVac33,poptSol33,poptSolExp3])"
   ]
  },
  {
   "cell_type": "code",
   "execution_count": null,
   "metadata": {
    "collapsed": true
   },
   "outputs": [],
   "source": [
    "poptcaVac03,poptcaSol03,poptcaVac13,poptcaSol13,poptcaVac23,poptcaSol23,poptcaVac33,poptcaSol33,poptcaSolExp3,"
   ]
  },
  {
   "cell_type": "code",
   "execution_count": null,
   "metadata": {
    "collapsed": true
   },
   "outputs": [],
   "source": [
    "np.savetxt('2.txt',[poptcaVac03,poptcaSol03,poptcaVac13,poptcaSol13,poptcaVac23,poptcaSol23,poptcaVac33,poptcaSol33,poptcaSolExp3])"
   ]
  },
  {
   "cell_type": "code",
   "execution_count": null,
   "metadata": {
    "collapsed": true
   },
   "outputs": [],
   "source": [
    "poptanVac03,poptanSol03,poptanVac13,poptanSol13,poptanVac23,poptanSol23,poptanVac33,poptanSol33,poptanSolExp3,"
   ]
  },
  {
   "cell_type": "code",
   "execution_count": null,
   "metadata": {
    "collapsed": true
   },
   "outputs": [],
   "source": [
    "np.savetxt('3.txt',[poptanVac03,poptanSol03,poptanVac13,poptanSol13,poptanVac23,poptanSol23,poptanVac33,poptanSol33,poptanSolExp3])"
   ]
  },
  {
   "cell_type": "code",
   "execution_count": null,
   "metadata": {
    "collapsed": true
   },
   "outputs": [],
   "source": [
    "poptemVac13,poptemSol13,poptemVac23,poptemSol23,poptemVac33,poptemSol33,poptemSolExp3,"
   ]
  },
  {
   "cell_type": "code",
   "execution_count": null,
   "metadata": {
    "collapsed": true
   },
   "outputs": [],
   "source": [
    "np.savetxt('4.txt',[poptemVac13,poptemSol13,poptemVac23,poptemSol23,poptemVac33,poptemSol33,poptemSolExp3])"
   ]
  },
  {
   "cell_type": "code",
   "execution_count": null,
   "metadata": {
    "collapsed": true
   },
   "outputs": [],
   "source": [
    "perrcaVac03,perrcaSol03,perrcaVac13,perrcaSol13,perrcaVac23,perrcaSol23,perrcaVac33,perrcaSol33,perrcaSolExp3"
   ]
  },
  {
   "cell_type": "code",
   "execution_count": null,
   "metadata": {
    "collapsed": true
   },
   "outputs": [],
   "source": [
    "perranVac03,perranSol03,perranVac13,perranSol13,perranVac23,perranSol23,perranVac33,perranSol33,perranSolExp3"
   ]
  },
  {
   "cell_type": "code",
   "execution_count": null,
   "metadata": {
    "collapsed": true
   },
   "outputs": [],
   "source": [
    "perremVac13,perremSol13,perremVac23,perremSol23,perremVac33,perremSol33,perremSolExp3"
   ]
  },
  {
   "cell_type": "code",
   "execution_count": null,
   "metadata": {
    "collapsed": true
   },
   "outputs": [],
   "source": []
  },
  {
   "cell_type": "code",
   "execution_count": null,
   "metadata": {
    "collapsed": true
   },
   "outputs": [],
   "source": []
  },
  {
   "cell_type": "code",
   "execution_count": null,
   "metadata": {
    "collapsed": true
   },
   "outputs": [],
   "source": []
  },
  {
   "cell_type": "code",
   "execution_count": null,
   "metadata": {
    "collapsed": true
   },
   "outputs": [],
   "source": []
  },
  {
   "cell_type": "code",
   "execution_count": null,
   "metadata": {
    "collapsed": true
   },
   "outputs": [],
   "source": []
  },
  {
   "cell_type": "code",
   "execution_count": null,
   "metadata": {
    "collapsed": true
   },
   "outputs": [],
   "source": []
  }
 ],
 "metadata": {
  "kernelspec": {
   "display_name": "Python 3",
   "language": "python",
   "name": "python3"
  },
  "language_info": {
   "codemirror_mode": {
    "name": "ipython",
    "version": 3
   },
   "file_extension": ".py",
   "mimetype": "text/x-python",
   "name": "python",
   "nbconvert_exporter": "python",
   "pygments_lexer": "ipython3",
   "version": "3.6.3"
  }
 },
 "nbformat": 4,
 "nbformat_minor": 2
}
